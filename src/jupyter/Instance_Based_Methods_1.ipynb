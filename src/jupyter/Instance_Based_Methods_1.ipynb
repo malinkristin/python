{
 "cells": [
  {
   "cell_type": "code",
   "execution_count": 19,
   "metadata": {},
   "outputs": [],
   "source": [
    "import numpy as np\n",
    "import matplotlib.pyplot as plt\n",
    "%matplotlib inline"
   ]
  },
  {
   "cell_type": "code",
   "execution_count": 20,
   "metadata": {},
   "outputs": [
    {
     "data": {
      "text/plain": [
       "<matplotlib.collections.PathCollection at 0x7f87e45ed890>"
      ]
     },
     "execution_count": 20,
     "metadata": {},
     "output_type": "execute_result"
    },
    {
     "data": {
      "image/png": "[encoded data removed]",
      "text/plain": [
       "<Figure size 432x288 with 1 Axes>"
      ]
     },
     "metadata": {
      "needs_background": "light"
     },
     "output_type": "display_data"
    }
   ],
   "source": [
    "# Data: Monitors cost by size in inches\n",
    "size = np.array([23.8,27.0,28.0,24.0,23.5,34.0,21.5,23.8,24.0,27.0,15.6,32.0,34.1,23.0]).reshape((-1,1))\n",
    "cost = np.array([139,219,369,141,153,469,147,209,159,199,169,429,439,129])\n",
    "\n",
    "labels = np.array([0,0,0,0,0,1,0,0,0,0,0,1,1,0])\n",
    "plt.scatter(size, cost)"
   ]
  },
  {
   "cell_type": "code",
   "execution_count": 21,
   "metadata": {},
   "outputs": [],
   "source": [
    "# Training\n",
    "training_set = np.column_stack([size, cost])"
   ]
  },
  {
   "cell_type": "code",
   "execution_count": 22,
   "metadata": {},
   "outputs": [],
   "source": [
    "# Distance\n",
    "def eucl_distance(arg1, arg2):\n",
    "    return np.linalg.norm(arg1-arg2)"
   ]
  },
  {
   "cell_type": "code",
   "execution_count": 23,
   "metadata": {},
   "outputs": [],
   "source": [
    "# Neighbors\n",
    "def get_neighbors(training_set, \n",
    "                  labels, \n",
    "                  test_instance, \n",
    "                  k, \n",
    "                  distance=eucl_distance):\n",
    "    \n",
    "    distances = []\n",
    "    for index in range(len(training_set)):\n",
    "        dist = distance(test_instance, training_set[index])\n",
    "        distances.append((training_set[index], dist, labels[index]))\n",
    "    distances.sort(key=lambda x: x[1])\n",
    "    neighbors = distances[:k]\n",
    "    return neighbors"
   ]
  },
  {
   "cell_type": "markdown",
   "metadata": {},
   "source": [
    "Get the neighbors for [32.0, 410]:"
   ]
  },
  {
   "cell_type": "code",
   "execution_count": 24,
   "metadata": {},
   "outputs": [
    {
     "name": "stdout",
     "output_type": "stream",
     "text": [
      "('[32.0,410]', 'Label: ', 1, [(array([ 32., 429.]), 19.0, 1), (array([ 34.1, 439. ]), 29.07593506664919, 1), (array([ 28., 369.]), 41.19465984809196, 0), (array([ 34., 469.]), 59.033888572581766, 1)])\n"
     ]
    }
   ],
   "source": [
    "neighbors = get_neighbors(training_set, \n",
    "                              labels, \n",
    "                              [32.0, 410], \n",
    "                              4)\n",
    "print(\"[32.0,410]\", \"Label: \", 1, neighbors)"
   ]
  }
 ],
 "metadata": {
  "kernelspec": {
   "display_name": "Python 2",
   "language": "python",
   "name": "python2"
  },
  "language_info": {
   "codemirror_mode": {
    "name": "ipython",
    "version": 2
   },
   "file_extension": ".py",
   "mimetype": "text/x-python",
   "name": "python",
   "nbconvert_exporter": "python",
   "pygments_lexer": "ipython2",
   "version": "2.7.18"
  }
 },
 "nbformat": 4,
 "nbformat_minor": 2
}
