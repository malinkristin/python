{
 "cells": [
  {
   "cell_type": "code",
   "execution_count": 3,
   "metadata": {
    "colab": {},
    "colab_type": "code",
    "id": "tTvyGyjcynB9",
    "outputId": "0a74333b-6f40-4396-b796-eb9901ae33fe"
   },
   "outputs": [
    {
     "name": "stdout",
     "output_type": "stream",
     "text": [
      "(array([5.1, 3.5, 1.4, 0.2]), array([5.7, 2.6, 3.5, 1. ]), array([6.3, 3.3, 6. , 2.5]))\n",
      "(0, 1, 2)\n"
     ]
    },
    {
     "data": {
      "text/plain": [
       "array([[4.9, 3. , 1.4, 0.2],\n",
       "       [4.7, 3.2, 1.3, 0.2],\n",
       "       [4.6, 3.1, 1.5, 0.2],\n",
       "       [5. , 3.6, 1.4, 0.2],\n",
       "       [5.4, 3.9, 1.7, 0.4],\n",
       "       [4.6, 3.4, 1.4, 0.3],\n",
       "       [5. , 3.4, 1.5, 0.2],\n",
       "       [4.4, 2.9, 1.4, 0.2],\n",
       "       [4.9, 3.1, 1.5, 0.1]])"
      ]
     },
     "execution_count": 3,
     "metadata": {},
     "output_type": "execute_result"
    }
   ],
   "source": [
    "import numpy as np\n",
    "from sklearn import datasets\n",
    "%matplotlib inline\n",
    "iris = datasets.load_iris()\n",
    "iris_data = iris.data\n",
    "iris_data = iris.data\n",
    "iris_labels = iris.target\n",
    "print(iris_data[0], iris_data[79], iris_data[100])\n",
    "print(iris_labels[0], iris_labels[79], iris_labels[100])\n",
    "iris_data[1:10]"
   ]
  },
  {
   "cell_type": "code",
   "execution_count": 4,
   "metadata": {
    "colab": {},
    "colab_type": "code",
    "id": "M0R2AC_UynCC",
    "outputId": "5bdc0805-7604-4d66-ef2c-5dd1cf889a01"
   },
   "outputs": [],
   "source": [
    "def distance(arg1, arg2):\n",
    "    instance1 = np.array(arg1)\n",
    "    instance2 = np.array(arg2)\n",
    "    return np.linalg.norm(instance1 - instance2)"
   ]
  },
  {
   "cell_type": "code",
   "execution_count": 5,
   "metadata": {
    "colab": {},
    "colab_type": "code",
    "id": "G4iJRoGrynCG",
    "outputId": "f259e71f-417e-44af-f839-3d4815909aa6"
   },
   "outputs": [],
   "source": [
    "def get_neighbors(training_set,\n",
    "                  labels, \n",
    "                  test_instance,\n",
    "                  k,\n",
    "                  distance=distance):\n",
    "    distances = []\n",
    "    for index in range(len(training_set)):\n",
    "        dist = distance(test_instance, training_set[index])\n",
    "        distances.append((training_set[index], dist, labels[index]))\n",
    "    distances.sort(key=lambda x: x[1])\n",
    "    neighbors = distances[:k]\n",
    "    return neighbors"
   ]
  },
  {
   "cell_type": "code",
   "execution_count": 6,
   "metadata": {
    "colab": {},
    "colab_type": "code",
    "id": "8Rc_APr6ynCI",
    "outputId": "b8af90f1-c0df-48cd-88e9-6b376a20f957"
   },
   "outputs": [
    {
     "name": "stdout",
     "output_type": "stream",
     "text": [
      "('[4.8,2.5,5.3,2.4]', [(array([5.6, 2.8, 4.9, 2. ]), 1.0246950765959593, 2), (array([5.7, 2.5, 5. , 2. ]), 1.0295630140987002, 2), (array([5.8, 2.8, 5.1, 2.4]), 1.0630145812734648, 2), (array([4.9, 2.5, 4.5, 1.7]), 1.067707825203131, 2), (array([5.8, 2.7, 5.1, 1.9]), 1.1532562594670797, 2), (array([5.8, 2.7, 5.1, 1.9]), 1.1532562594670797, 2)])\n"
     ]
    }
   ],
   "source": [
    "neighbors = get_neighbors(iris_data,\n",
    "                          iris_labels,\n",
    "                          [4.8,2.5,5.3,2.4],\n",
    "                          6,\n",
    "                          distance=distance)\n",
    "print(\"[4.8,2.5,5.3,2.4]\", neighbors)"
   ]
  },
  {
   "cell_type": "markdown",
   "metadata": {
    "colab_type": "text",
    "id": "z7JucpClynCS"
   },
   "source": [
    "Using KNN, this data points to an Iris Virginica (2), judging by the neighbors' classifications."
   ]
  }
 ],
 "metadata": {
  "colab": {
   "name": "IRIS-KNN.ipynb",
   "provenance": []
  },
  "kernelspec": {
   "display_name": "Python 2",
   "language": "python",
   "name": "python2"
  },
  "language_info": {
   "codemirror_mode": {
    "name": "ipython",
    "version": 2
   },
   "file_extension": ".py",
   "mimetype": "text/x-python",
   "name": "python",
   "nbconvert_exporter": "python",
   "pygments_lexer": "ipython2",
   "version": "2.7.18"
  }
 },
 "nbformat": 4,
 "nbformat_minor": 1
}
