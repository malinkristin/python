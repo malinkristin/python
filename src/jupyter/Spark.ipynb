{
 "cells": [
  {
   "cell_type": "code",
   "execution_count": 1,
   "metadata": {},
   "outputs": [],
   "source": [
    "import findspark\n",
    "findspark.init('/Users/malin.daub/spark-3.3.0-bin-hadoop3')\n",
    "findspark.find()\n",
    "import pyspark\n",
    "findspark.find()\n",
    "import collections"
   ]
  },
  {
   "cell_type": "code",
   "execution_count": 2,
   "metadata": {},
   "outputs": [
    {
     "name": "stderr",
     "output_type": "stream",
     "text": [
      "Setting default log level to \"WARN\".\n",
      "To adjust logging level use sc.setLogLevel(newLevel). For SparkR, use setLogLevel(newLevel).\n"
     ]
    },
    {
     "name": "stdout",
     "output_type": "stream",
     "text": [
      "22/07/11 15:24:51 WARN NativeCodeLoader: Unable to load native-hadoop library for your platform... using builtin-java classes where applicable\n"
     ]
    },
    {
     "name": "stderr",
     "output_type": "stream",
     "text": [
      "                                                                                \r"
     ]
    },
    {
     "data": {
      "text/plain": [
       "[('the', 27484),\n",
       " ('and', 25991),\n",
       " ('i', 19540),\n",
       " ('to', 18656),\n",
       " ('of', 17952),\n",
       " ('a', 14365),\n",
       " ('my', 12455),\n",
       " ('in', 10660),\n",
       " ('you', 10597),\n",
       " ('that', 10473),\n",
       " ('is', 9115),\n",
       " ('for', 7948),\n",
       " ('with', 7923),\n",
       " ('not', 7633),\n",
       " ('your', 6861),\n",
       " ('his', 6749),\n",
       " ('be', 6684),\n",
       " ('he', 5884),\n",
       " ('but', 5881),\n",
       " ('as', 5875),\n",
       " ('this', 5859),\n",
       " ('it', 5858),\n",
       " ('have', 5675),\n",
       " ('thou', 5138)]"
      ]
     },
     "execution_count": 2,
     "metadata": {},
     "output_type": "execute_result"
    }
   ],
   "source": [
    "import os\n",
    "\n",
    "os.environ[\"PYSPARK_PYTHON\"]=\"/Library/Frameworks/Python.framework/Versions/3.10/bin/python3\"\n",
    "from pyspark import SparkContext, SparkConf\n",
    "\n",
    "conf = SparkConf().setAppName(\"words\").setMaster(\"local\")\n",
    "sc = SparkContext()\n",
    "lines = sc.textFile(\"shakespeare.txt\")\n",
    "words = lines.flatMap(lambda line: line.lower().split(\" \"))\n",
    "wordCounts = words.countByValue()\n",
    "\n",
    "sorted_x = dict(sorted(wordCounts.items(), key=lambda item: item[1], reverse=True))\n",
    "sorted_dict = collections.OrderedDict(sorted_x)\n",
    "list(sorted_dict.items())[1:25]"
   ]
  },
  {
   "cell_type": "code",
   "execution_count": null,
   "metadata": {},
   "outputs": [],
   "source": []
  }
 ],
 "metadata": {
  "kernelspec": {
   "display_name": "Python 3 (ipykernel)",
   "language": "python",
   "name": "python3"
  },
  "language_info": {
   "codemirror_mode": {
    "name": "ipython",
    "version": 3
   },
   "file_extension": ".py",
   "mimetype": "text/x-python",
   "name": "python",
   "nbconvert_exporter": "python",
   "pygments_lexer": "ipython3",
   "version": "3.10.3"
  }
 },
 "nbformat": 4,
 "nbformat_minor": 2
}
